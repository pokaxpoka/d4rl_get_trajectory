{
 "cells": [
  {
   "cell_type": "code",
   "execution_count": 1,
   "metadata": {
    "scrolled": true
   },
   "outputs": [
    {
     "name": "stderr",
     "output_type": "stream",
     "text": [
      "Warning: Flow failed to import. Set the environment variable D4RL_SUPPRESS_IMPORT_ERROR=1 to suppress this message.\n",
      "No module named 'flow'\n",
      "Warning: FrankaKitchen failed to import. Set the environment variable D4RL_SUPPRESS_IMPORT_ERROR=1 to suppress this message.\n",
      "No module named 'dm_control'\n",
      "Warning: CARLA failed to import. Set the environment variable D4RL_SUPPRESS_IMPORT_ERROR=1 to suppress this message.\n",
      "No module named 'carla'\n",
      "pybullet build time: Mar 26 2022 03:00:52\n"
     ]
    }
   ],
   "source": [
    "import numpy as np\n",
    "import gym\n",
    "import d4rl"
   ]
  },
  {
   "cell_type": "markdown",
   "metadata": {},
   "source": [
    "# Extract Trajectory from Dataset"
   ]
  },
  {
   "cell_type": "code",
   "execution_count": 2,
   "metadata": {},
   "outputs": [],
   "source": [
    "def get_trajectories(dataset):\n",
    "    '''\n",
    "    Input: d4rl dataset\n",
    "    Output: list of trj idx\n",
    "    '''\n",
    "    \n",
    "    trj_idx_list = []\n",
    "    data_len = len(dataset['rewards'])\n",
    "    trj_len = 0\n",
    "    start_idx = 0\n",
    "    \n",
    "    for idx in range(data_len-1):\n",
    "        state_diff = dataset['next_observations'][idx]-dataset['observations'][idx+1]\n",
    "        trj_len += 1\n",
    "        if sum(state_diff) > 0 or dataset['terminals'][idx] or trj_len == 1000:\n",
    "            trj_idx_list.append([start_idx, idx])\n",
    "            trj_len = 0\n",
    "            start_idx = idx + 1\n",
    "            \n",
    "    # include last step\n",
    "    trj_idx_list.append([start_idx, data_len])\n",
    "    \n",
    "    return trj_idx_list"
   ]
  },
  {
   "cell_type": "markdown",
   "metadata": {},
   "source": [
    "# Main"
   ]
  },
  {
   "cell_type": "code",
   "execution_count": 3,
   "metadata": {
    "scrolled": false
   },
   "outputs": [],
   "source": [
    "env_list= [\n",
    "    'walker2d-medium-expert-v2', \n",
    "    'walker2d-medium-replay-v2', \n",
    "    'walker2d-medium-v2', \n",
    "    'walker2d-expert-v2', \n",
    "    'halfcheetah-medium-v2', \n",
    "    'halfcheetah-expert-v2', \n",
    "    'halfcheetah-medium-expert-v2', \n",
    "    'halfcheetah-medium-replay-v2', \n",
    "    'hopper-medium-v2', \n",
    "    'hopper-expert-v2', \n",
    "    'hopper-medium-expert-v2', \n",
    "    'hopper-medium-replay-v2']"
   ]
  },
  {
   "cell_type": "code",
   "execution_count": 4,
   "metadata": {},
   "outputs": [
    {
     "name": "stderr",
     "output_type": "stream",
     "text": [
      "/home/kimin/anaconda3/envs/jaxcql/lib/python3.8/site-packages/gym/spaces/box.py:84: UserWarning: \u001b[33mWARN: Box bound precision lowered by casting to float32\u001b[0m\n",
      "  logger.warn(f\"Box bound precision lowered by casting to {self.dtype}\")\n",
      "load datafile: 100%|█████████████████████████████████████████████████████████████████████████████████████████████████████████████████████████████████████████████████████████████████████████████████| 9/9 [00:04<00:00,  2.15it/s]\n"
     ]
    }
   ],
   "source": [
    "env_name = env_list[0]\n",
    "env = gym.make(env_name).unwrapped\n",
    "dataset = d4rl.qlearning_dataset(env)"
   ]
  },
  {
   "cell_type": "code",
   "execution_count": null,
   "metadata": {},
   "outputs": [],
   "source": [
    "trj_idx = get_trajectories(dataset)"
   ]
  },
  {
   "cell_type": "code",
   "execution_count": null,
   "metadata": {},
   "outputs": [],
   "source": []
  }
 ],
 "metadata": {
  "kernelspec": {
   "display_name": "jaxcql",
   "language": "python",
   "name": "jaxcql"
  },
  "language_info": {
   "codemirror_mode": {
    "name": "ipython",
    "version": 3
   },
   "file_extension": ".py",
   "mimetype": "text/x-python",
   "name": "python",
   "nbconvert_exporter": "python",
   "pygments_lexer": "ipython3",
   "version": "3.8.13"
  }
 },
 "nbformat": 4,
 "nbformat_minor": 4
}
