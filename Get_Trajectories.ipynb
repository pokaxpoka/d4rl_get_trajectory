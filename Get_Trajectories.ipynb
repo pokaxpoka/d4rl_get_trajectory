{
 "cells": [
  {
   "cell_type": "code",
   "execution_count": 1,
   "metadata": {
    "scrolled": true
   },
   "outputs": [
    {
     "name": "stderr",
     "output_type": "stream",
     "text": [
      "Warning: Flow failed to import. Set the environment variable D4RL_SUPPRESS_IMPORT_ERROR=1 to suppress this message.\n",
      "No module named 'flow'\n",
      "Warning: FrankaKitchen failed to import. Set the environment variable D4RL_SUPPRESS_IMPORT_ERROR=1 to suppress this message.\n",
      "No module named 'dm_control'\n",
      "Warning: CARLA failed to import. Set the environment variable D4RL_SUPPRESS_IMPORT_ERROR=1 to suppress this message.\n",
      "No module named 'carla'\n",
      "pybullet build time: Mar 26 2022 03:00:52\n"
     ]
    }
   ],
   "source": [
    "import numpy as np\n",
    "import gym\n",
    "import d4rl"
   ]
  },
  {
   "cell_type": "markdown",
   "metadata": {},
   "source": [
    "# Extract Trajectory from Dataset"
   ]
  },
  {
   "cell_type": "code",
   "execution_count": 2,
   "metadata": {},
   "outputs": [],
   "source": [
    "def get_trajectory(env, terminate_on_end=False, **kwargs):\n",
    "\n",
    "    dataset = env.get_dataset(**kwargs)\n",
    "\n",
    "    N = dataset['rewards'].shape[0]\n",
    "    \n",
    "    # The newer version of the dataset adds an explicit\n",
    "    # timeouts field. Keep old method for backwards compatability.\n",
    "    use_timeouts = False\n",
    "    if 'timeouts' in dataset:\n",
    "        use_timeouts = True\n",
    "\n",
    "    episode_step = 0\n",
    "    start_idx, data_idx = 0, 0\n",
    "    trj_idx_list = []\n",
    "    for i in range(N-1):\n",
    "        done_bool = bool(dataset['terminals'][i])\n",
    "\n",
    "        if use_timeouts:\n",
    "            final_timestep = dataset['timeouts'][i]\n",
    "        else:\n",
    "            final_timestep = (episode_step == env._max_episode_steps - 1)\n",
    "        if (not terminate_on_end) and final_timestep:\n",
    "            # Skip this transition and don't apply terminals on the last step of an episode\n",
    "            episode_step = 0\n",
    "            trj_idx_list.append([start_idx, data_idx-1])\n",
    "            start_idx = data_idx\n",
    "            continue  \n",
    "        if done_bool or final_timestep:\n",
    "            episode_step = 0\n",
    "            trj_idx_list.append([start_idx, data_idx])\n",
    "            start_idx = data_idx + 1\n",
    "            \n",
    "        episode_step += 1\n",
    "        data_idx += 1\n",
    "        \n",
    "    trj_idx_list.append([start_idx, data_idx])\n",
    "    \n",
    "    return trj_idx_list"
   ]
  },
  {
   "cell_type": "code",
   "execution_count": 3,
   "metadata": {
    "scrolled": false
   },
   "outputs": [],
   "source": [
    "env_list= [\n",
    "    'walker2d-medium-expert-v2', \n",
    "    'walker2d-medium-replay-v2', \n",
    "    'walker2d-medium-v2', \n",
    "    'walker2d-expert-v2', \n",
    "    'halfcheetah-medium-v2', \n",
    "    'halfcheetah-expert-v2', \n",
    "    'halfcheetah-medium-expert-v2', \n",
    "    'halfcheetah-medium-replay-v2', \n",
    "    'hopper-medium-v2', \n",
    "    'hopper-expert-v2', \n",
    "    'hopper-medium-expert-v2', \n",
    "    'hopper-medium-replay-v2']"
   ]
  },
  {
   "cell_type": "code",
   "execution_count": 4,
   "metadata": {
    "scrolled": true
   },
   "outputs": [
    {
     "name": "stderr",
     "output_type": "stream",
     "text": [
      "/home/kimin/anaconda3/envs/jaxcql/lib/python3.8/site-packages/gym/spaces/box.py:84: UserWarning: \u001b[33mWARN: Box bound precision lowered by casting to float32\u001b[0m\n",
      "  logger.warn(f\"Box bound precision lowered by casting to {self.dtype}\")\n",
      "load datafile: 100%|█████████████████████████████████████████████████████████████████████████████████████████████████████████████████████████████████████████████████████████████████████████████████| 9/9 [00:03<00:00,  2.52it/s]\n",
      "load datafile: 100%|███████████████████████████████████████████████████████████████████████████████████████████████████████████████████████████████████████████████████████████████████████████████| 11/11 [00:00<00:00, 19.01it/s]\n",
      "load datafile: 100%|███████████████████████████████████████████████████████████████████████████████████████████████████████████████████████████████████████████████████████████████████████████████| 21/21 [00:01<00:00, 11.65it/s]\n",
      "load datafile: 100%|███████████████████████████████████████████████████████████████████████████████████████████████████████████████████████████████████████████████████████████████████████████████| 21/21 [00:01<00:00, 11.73it/s]\n",
      "load datafile: 100%|███████████████████████████████████████████████████████████████████████████████████████████████████████████████████████████████████████████████████████████████████████████████| 21/21 [00:01<00:00, 11.84it/s]\n",
      "load datafile: 100%|███████████████████████████████████████████████████████████████████████████████████████████████████████████████████████████████████████████████████████████████████████████████| 21/21 [00:01<00:00, 11.81it/s]\n",
      "load datafile: 100%|█████████████████████████████████████████████████████████████████████████████████████████████████████████████████████████████████████████████████████████████████████████████████| 9/9 [00:03<00:00,  2.54it/s]\n",
      "load datafile: 100%|███████████████████████████████████████████████████████████████████████████████████████████████████████████████████████████████████████████████████████████████████████████████| 11/11 [00:00<00:00, 29.37it/s]\n",
      "load datafile: 100%|███████████████████████████████████████████████████████████████████████████████████████████████████████████████████████████████████████████████████████████████████████████████| 21/21 [00:01<00:00, 18.42it/s]\n",
      "load datafile: 100%|███████████████████████████████████████████████████████████████████████████████████████████████████████████████████████████████████████████████████████████████████████████████| 21/21 [00:01<00:00, 18.33it/s]\n",
      "load datafile: 100%|█████████████████████████████████████████████████████████████████████████████████████████████████████████████████████████████████████████████████████████████████████████████████| 9/9 [00:02<00:00,  3.95it/s]\n",
      "load datafile: 100%|███████████████████████████████████████████████████████████████████████████████████████████████████████████████████████████████████████████████████████████████████████████████| 11/11 [00:00<00:00, 22.60it/s]\n"
     ]
    }
   ],
   "source": [
    "for env_name in env_list:\n",
    "    env = gym.make(env_name).unwrapped\n",
    "    trj_idx_list = get_trajectory(env)"
   ]
  },
  {
   "cell_type": "code",
   "execution_count": null,
   "metadata": {},
   "outputs": [],
   "source": []
  }
 ],
 "metadata": {
  "kernelspec": {
   "display_name": "jaxcql",
   "language": "python",
   "name": "jaxcql"
  },
  "language_info": {
   "codemirror_mode": {
    "name": "ipython",
    "version": 3
   },
   "file_extension": ".py",
   "mimetype": "text/x-python",
   "name": "python",
   "nbconvert_exporter": "python",
   "pygments_lexer": "ipython3",
   "version": "3.8.13"
  }
 },
 "nbformat": 4,
 "nbformat_minor": 4
}
